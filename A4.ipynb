{
 "cells": [
  {
   "cell_type": "raw",
   "id": "6c7dbb20-ddb9-441a-aeab-c2b5c4dec651",
   "metadata": {},
   "source": []
  },
  {
   "cell_type": "code",
   "execution_count": 21,
   "id": "54734c2b-e8f2-41fe-94b2-8d1b8eefd9db",
   "metadata": {},
   "outputs": [],
   "source": [
    "import pandas as pd\n",
    "import numpy as np\n",
    "from sklearn.model_selection import train_test_split\n",
    "from sklearn.linear_model import LinearRegression\n",
    "from sklearn.preprocessing import StandardScaler\n",
    "from sklearn.metrics import mean_squared_error"
   ]
  },
  {
   "cell_type": "code",
   "execution_count": 22,
   "id": "a8bbb150-3575-4fa1-90b4-2bd500ce752a",
   "metadata": {},
   "outputs": [
    {
     "data": {
      "text/html": [
       "<div>\n",
       "<style scoped>\n",
       "    .dataframe tbody tr th:only-of-type {\n",
       "        vertical-align: middle;\n",
       "    }\n",
       "\n",
       "    .dataframe tbody tr th {\n",
       "        vertical-align: top;\n",
       "    }\n",
       "\n",
       "    .dataframe thead th {\n",
       "        text-align: right;\n",
       "    }\n",
       "</style>\n",
       "<table border=\"1\" class=\"dataframe\">\n",
       "  <thead>\n",
       "    <tr style=\"text-align: right;\">\n",
       "      <th></th>\n",
       "      <th>CRIM</th>\n",
       "      <th>ZN</th>\n",
       "      <th>INDUS</th>\n",
       "      <th>CHAS</th>\n",
       "      <th>NOX</th>\n",
       "      <th>RM</th>\n",
       "      <th>AGE</th>\n",
       "      <th>DIS</th>\n",
       "      <th>RAD</th>\n",
       "      <th>TAX</th>\n",
       "      <th>PTRATIO</th>\n",
       "      <th>LSTAT</th>\n",
       "      <th>MEDV</th>\n",
       "    </tr>\n",
       "  </thead>\n",
       "  <tbody>\n",
       "    <tr>\n",
       "      <th>0</th>\n",
       "      <td>0.00632</td>\n",
       "      <td>18.0</td>\n",
       "      <td>2.31</td>\n",
       "      <td>0</td>\n",
       "      <td>0.538</td>\n",
       "      <td>6.575</td>\n",
       "      <td>65.2</td>\n",
       "      <td>4.0900</td>\n",
       "      <td>1</td>\n",
       "      <td>296</td>\n",
       "      <td>15.3</td>\n",
       "      <td>4.98</td>\n",
       "      <td>24.0</td>\n",
       "    </tr>\n",
       "    <tr>\n",
       "      <th>1</th>\n",
       "      <td>0.02731</td>\n",
       "      <td>0.0</td>\n",
       "      <td>7.07</td>\n",
       "      <td>0</td>\n",
       "      <td>0.469</td>\n",
       "      <td>6.421</td>\n",
       "      <td>78.9</td>\n",
       "      <td>4.9671</td>\n",
       "      <td>2</td>\n",
       "      <td>242</td>\n",
       "      <td>17.8</td>\n",
       "      <td>9.14</td>\n",
       "      <td>21.6</td>\n",
       "    </tr>\n",
       "    <tr>\n",
       "      <th>2</th>\n",
       "      <td>0.02729</td>\n",
       "      <td>0.0</td>\n",
       "      <td>7.07</td>\n",
       "      <td>0</td>\n",
       "      <td>0.469</td>\n",
       "      <td>7.185</td>\n",
       "      <td>61.1</td>\n",
       "      <td>4.9671</td>\n",
       "      <td>2</td>\n",
       "      <td>242</td>\n",
       "      <td>17.8</td>\n",
       "      <td>4.03</td>\n",
       "      <td>34.7</td>\n",
       "    </tr>\n",
       "    <tr>\n",
       "      <th>3</th>\n",
       "      <td>0.03237</td>\n",
       "      <td>0.0</td>\n",
       "      <td>2.18</td>\n",
       "      <td>0</td>\n",
       "      <td>0.458</td>\n",
       "      <td>6.998</td>\n",
       "      <td>45.8</td>\n",
       "      <td>6.0622</td>\n",
       "      <td>3</td>\n",
       "      <td>222</td>\n",
       "      <td>18.7</td>\n",
       "      <td>2.94</td>\n",
       "      <td>33.4</td>\n",
       "    </tr>\n",
       "    <tr>\n",
       "      <th>4</th>\n",
       "      <td>0.06905</td>\n",
       "      <td>0.0</td>\n",
       "      <td>2.18</td>\n",
       "      <td>0</td>\n",
       "      <td>0.458</td>\n",
       "      <td>7.147</td>\n",
       "      <td>54.2</td>\n",
       "      <td>6.0622</td>\n",
       "      <td>3</td>\n",
       "      <td>222</td>\n",
       "      <td>18.7</td>\n",
       "      <td>5.33</td>\n",
       "      <td>36.2</td>\n",
       "    </tr>\n",
       "  </tbody>\n",
       "</table>\n",
       "</div>"
      ],
      "text/plain": [
       "      CRIM    ZN  INDUS  CHAS    NOX     RM   AGE     DIS  RAD  TAX  PTRATIO  \\\n",
       "0  0.00632  18.0   2.31     0  0.538  6.575  65.2  4.0900    1  296     15.3   \n",
       "1  0.02731   0.0   7.07     0  0.469  6.421  78.9  4.9671    2  242     17.8   \n",
       "2  0.02729   0.0   7.07     0  0.469  7.185  61.1  4.9671    2  242     17.8   \n",
       "3  0.03237   0.0   2.18     0  0.458  6.998  45.8  6.0622    3  222     18.7   \n",
       "4  0.06905   0.0   2.18     0  0.458  7.147  54.2  6.0622    3  222     18.7   \n",
       "\n",
       "   LSTAT  MEDV  \n",
       "0   4.98  24.0  \n",
       "1   9.14  21.6  \n",
       "2   4.03  34.7  \n",
       "3   2.94  33.4  \n",
       "4   5.33  36.2  "
      ]
     },
     "execution_count": 22,
     "metadata": {},
     "output_type": "execute_result"
    }
   ],
   "source": [
    "data=pd.read_csv(\"Boston.csv\")\n",
    "data.head()"
   ]
  },
  {
   "cell_type": "code",
   "execution_count": 23,
   "id": "8daa9f71-d38f-42fc-9658-b07f1ded95ff",
   "metadata": {},
   "outputs": [],
   "source": [
    "X=data[['CRIM','ZN','INDUS','CHAS','NOX','RM','AGE','DIS','RAD','TAX','PTRATIO','LSTAT']]\n",
    "Y=data['MEDV']"
   ]
  },
  {
   "cell_type": "code",
   "execution_count": 24,
   "id": "865447dd-78ba-4320-90ca-5308c95b8022",
   "metadata": {},
   "outputs": [],
   "source": [
    "X_train,X_test,y_train,y_test=train_test_split(X,Y,test_size=0.3)\n"
   ]
  },
  {
   "cell_type": "code",
   "execution_count": 26,
   "id": "385102dc-2f4d-4e82-8bcd-fbbd14635a03",
   "metadata": {},
   "outputs": [],
   "source": [
    "sc=StandardScaler()\n",
    "X_test=sc.fit_transform(X_test)\n",
    "X_train=sc.fit_transform(X_train)"
   ]
  },
  {
   "cell_type": "code",
   "execution_count": 27,
   "id": "f374f21c-7c27-4673-af42-a63aa5181e28",
   "metadata": {},
   "outputs": [],
   "source": [
    "lr=LinearRegression()\n",
    "lr.fit(X_train,y_train)\n",
    "y_pred=lr.predict(X_test)"
   ]
  },
  {
   "cell_type": "code",
   "execution_count": 28,
   "id": "167a2874-66c9-4242-a36d-7662d5b72c01",
   "metadata": {},
   "outputs": [
    {
     "name": "stdout",
     "output_type": "stream",
     "text": [
      "[19.31836561 35.57770954  4.43652444  6.97846734 25.11725796 26.61234498\n",
      " 16.69653167 -4.2542944  43.76377725 23.07695022 33.25856975 20.42758976\n",
      " 11.77090082 34.340555   24.85269224 22.98177613 33.00217478 28.90313764\n",
      " 24.266198   22.10172733 21.11527839 34.34027503 17.32569848 23.71626228\n",
      " 28.15883866 30.47616066 17.083301   24.26271751 22.2870588  25.95758121\n",
      " 16.12916701 30.05007582 19.51295858 24.9526456  18.84574805 33.03185282\n",
      " 42.73623827 20.29286317 23.34618134 20.98539262 34.58735699 14.17206662\n",
      " 19.87546318 38.87577185 23.25475352 25.47945355 25.69492623 15.7082753\n",
      " 20.76087711 23.88107673 17.60364934  5.21494618 20.98900199 29.74983269\n",
      " 27.88476789 36.49847258 18.58489795 31.67143311 16.46330171 25.4818033\n",
      " 21.23264787 24.61064587 24.86391742 21.65807455 34.55807546 21.18307502\n",
      " 18.27115602  8.07594077 20.39204318 26.46897835 36.98337765 21.38122043\n",
      " 31.2984906  22.21733777 22.56093944 28.76219164 28.87401365 14.32771144\n",
      " 23.94638147 29.28089607 15.79394033 35.10613902 15.30192459 20.68166268\n",
      "  0.07492584 15.49437893 21.13956695 27.63811147 19.28428795  6.34937929\n",
      " 30.25881034 17.21823887 11.78675269 19.26278014 24.53484125 23.36268298\n",
      " 16.83552204 16.25223302 19.81900052 35.87516396 21.07397947 22.0306696\n",
      " 24.58818768 15.59429547 14.80231735 19.25800692 17.33349656 20.09866555\n",
      " 20.99848815 25.0180479  14.23214883 25.59824302 29.05209698 15.95406885\n",
      " 17.89699488 18.99001398 35.74566458 19.3220829   5.85438767 22.20406145\n",
      " 30.57526441 35.10317797 33.05957768 23.5029815  27.36156814 26.29024485\n",
      " 10.86647233 27.58246044 19.89236884 28.79179041 19.51960999 23.62651197\n",
      " 15.69244917 30.10749744 18.40353735 22.35235162 18.61340513 25.14368444\n",
      " 28.22706947  9.50439185 35.72043619 24.21836128 12.52501321 28.59222531\n",
      " 19.07227807 29.52997418 20.10942925 15.14834727 23.87773034 35.17586717\n",
      " 17.78762236 20.86277752]\n"
     ]
    }
   ],
   "source": [
    "print(y_pred)"
   ]
  },
  {
   "cell_type": "code",
   "execution_count": 29,
   "id": "9043dd59-395c-440c-ab0e-65f8195d56a8",
   "metadata": {},
   "outputs": [
    {
     "name": "stdout",
     "output_type": "stream",
     "text": [
      "Root mean squared error is  4.730938297974136\n"
     ]
    }
   ],
   "source": [
    "rmse=np.sqrt(mean_squared_error(y_test,y_pred))\n",
    "print(\"Root mean squared error is \",rmse)"
   ]
  },
  {
   "cell_type": "code",
   "execution_count": 30,
   "id": "d3a77e91-6f19-43f1-8c1b-40912973ba18",
   "metadata": {},
   "outputs": [
    {
     "name": "stdout",
     "output_type": "stream",
     "text": [
      "train accuracy =  0.7309559982137883\n"
     ]
    }
   ],
   "source": [
    "print(\"train accuracy = \",lr.score(X_train,y_train))"
   ]
  },
  {
   "cell_type": "code",
   "execution_count": 31,
   "id": "1c6a6005-64d9-43cc-946f-d71a8cdd11f6",
   "metadata": {},
   "outputs": [
    {
     "name": "stdout",
     "output_type": "stream",
     "text": [
      "test accuracy =  0.727058526907677\n"
     ]
    }
   ],
   "source": [
    "print(\"test accuracy = \",lr.score(X_test,y_test))"
   ]
  },
  {
   "cell_type": "code",
   "execution_count": null,
   "id": "92bcc4cd-a1da-483c-9d7e-8c51b4db2cc4",
   "metadata": {},
   "outputs": [],
   "source": []
  }
 ],
 "metadata": {
  "kernelspec": {
   "display_name": "Python 3 (ipykernel)",
   "language": "python",
   "name": "python3"
  },
  "language_info": {
   "codemirror_mode": {
    "name": "ipython",
    "version": 3
   },
   "file_extension": ".py",
   "mimetype": "text/x-python",
   "name": "python",
   "nbconvert_exporter": "python",
   "pygments_lexer": "ipython3",
   "version": "3.10.12"
  }
 },
 "nbformat": 4,
 "nbformat_minor": 5
}
