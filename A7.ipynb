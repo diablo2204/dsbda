{
 "cells": [
  {
   "cell_type": "code",
   "execution_count": 5,
   "id": "0e0b73eb-8721-4ea3-8d8a-08dc84a6be07",
   "metadata": {},
   "outputs": [
    {
     "name": "stderr",
     "output_type": "stream",
     "text": [
      "[nltk_data] Downloading package stopwords to /home/om/nltk_data...\n",
      "[nltk_data]   Package stopwords is already up-to-date!\n",
      "[nltk_data] Downloading package wordnet to /home/om/nltk_data...\n",
      "[nltk_data]   Package wordnet is already up-to-date!\n"
     ]
    },
    {
     "name": "stdout",
     "output_type": "stream",
     "text": [
      "Tokens: ['natural', 'language', 'processing', 'fascinating', 'field', 'artificial', 'intelligence', 'focuses', 'interaction', 'computers', 'humans']\n",
      "Stems: ['natur', 'languag', 'process', 'fascin', 'field', 'artifici', 'intellig', 'focus', 'interact', 'comput', 'human']\n",
      "Lemmas: ['natural', 'language', 'processing', 'fascinating', 'field', 'artificial', 'intelligence', 'focus', 'interaction', 'computer', 'human']\n",
      "and : 0.2132\n",
      "artificial : 0.2132\n",
      "between : 0.2132\n",
      "computers : 0.2132\n",
      "fascinating : 0.2132\n",
      "field : 0.2132\n",
      "focuses : 0.2132\n",
      "humans : 0.2132\n",
      "intelligence : 0.2132\n",
      "interaction : 0.2132\n",
      "is : 0.2132\n",
      "language : 0.4264\n",
      "natural : 0.2132\n",
      "of : 0.2132\n",
      "on : 0.2132\n",
      "processing : 0.2132\n",
      "that : 0.2132\n",
      "the : 0.2132\n",
      "through : 0.2132\n"
     ]
    }
   ],
   "source": [
    "# Install libraries if needed\n",
    "# !pip install nltk scikit-learn\n",
    "\n",
    "import nltk\n",
    "from nltk.corpus import stopwords\n",
    "from nltk.stem import PorterStemmer, WordNetLemmatizer\n",
    "from sklearn.feature_extraction.text import TfidfVectorizer\n",
    "\n",
    "nltk.download('stopwords')\n",
    "nltk.download('wordnet')\n",
    "\n",
    "# Sample document\n",
    "doc = \"Natural Language Processing is a fascinating field of Artificial Intelligence that focuses on the interaction between computers and humans through language.\"\n",
    "\n",
    "# Preprocessing\n",
    "tokens = doc.split()  # just simple split\n",
    "tokens = [w for w in tokens if w.isalpha()]  # Keep only alphabet words\n",
    "tokens = [w.lower() for w in tokens if w.lower() not in stopwords.words('english')]\n",
    "\n",
    "stemmer = PorterStemmer()\n",
    "lemmatizer = WordNetLemmatizer()\n",
    "\n",
    "stems = [stemmer.stem(w) for w in tokens]\n",
    "lemmas = [lemmatizer.lemmatize(w) for w in tokens]\n",
    "\n",
    "print(\"Tokens:\", tokens)\n",
    "print(\"Stems:\", stems)\n",
    "print(\"Lemmas:\", lemmas)\n",
    "\n",
    "# TF-IDF\n",
    "vectorizer = TfidfVectorizer()\n",
    "X = vectorizer.fit_transform([doc])\n",
    "\n",
    "# Print TF-IDF\n",
    "for word, score in zip(vectorizer.get_feature_names_out(), X.toarray()[0]):\n",
    "    if score > 0:\n",
    "        print(word, \":\", round(score, 4))\n"
   ]
  },
  {
   "cell_type": "code",
   "execution_count": null,
   "id": "7cd52cfd-e189-41f8-9cfb-4e096456e552",
   "metadata": {},
   "outputs": [],
   "source": []
  }
 ],
 "metadata": {
  "kernelspec": {
   "display_name": "Python 3 (ipykernel)",
   "language": "python",
   "name": "python3"
  },
  "language_info": {
   "codemirror_mode": {
    "name": "ipython",
    "version": 3
   },
   "file_extension": ".py",
   "mimetype": "text/x-python",
   "name": "python",
   "nbconvert_exporter": "python",
   "pygments_lexer": "ipython3",
   "version": "3.12.3"
  }
 },
 "nbformat": 4,
 "nbformat_minor": 5
}
